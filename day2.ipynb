{
 "cells": [
  {
   "cell_type": "code",
   "execution_count": 1,
   "id": "01429c16-50c1-43b4-9ab9-e665cddc6d30",
   "metadata": {
    "tags": []
   },
   "outputs": [
    {
     "name": "stdout",
     "output_type": "stream",
     "text": [
      "MY NAME IS :ANUJ MORE. MY AGE IS 32 and I have done BE Degree\n"
     ]
    }
   ],
   "source": [
    "name=\"ANUJ MORE\"\n",
    "age=32\n",
    "degree=\"BE\"\n",
    "print(\"MY NAME IS :{Myname}. MY AGE IS {MYAGE} and I have done {MYDEGREE} Degree\".format(Myname=name,MYAGE=age,MYDEGREE=degree))"
   ]
  },
  {
   "cell_type": "code",
   "execution_count": null,
   "id": "9d5a3a09-967d-4cf9-81c1-02b2fcc4391b",
   "metadata": {
    "tags": []
   },
   "outputs": [],
   "source": []
  },
  {
   "cell_type": "code",
   "execution_count": 6,
   "id": "0793cf4d-75ef-4b6c-87d3-537a97a99cae",
   "metadata": {},
   "outputs": [
    {
     "name": "stdin",
     "output_type": "stream",
     "text": [
      "ENTER YOUR AGE  89\n"
     ]
    },
    {
     "name": "stdout",
     "output_type": "stream",
     "text": [
      "YOU ARE REJECTED\n"
     ]
    }
   ],
   "source": [
    "age=int(input(\"ENTER YOUR AGE \"))\n",
    "if age>=18 and age<=32:\n",
    "    print(\"YOU ARE ELIGIBLE\")\n",
    "else :\n",
    "    print(\"YOU ARE REJECTED\")\n",
    "    "
   ]
  },
  {
   "cell_type": "code",
   "execution_count": 7,
   "id": "cf6912b5-de37-403f-a627-db22efd45eb3",
   "metadata": {},
   "outputs": [
    {
     "name": "stdin",
     "output_type": "stream",
     "text": [
      "ENTER THE PRODUCT PRIZE 1200\n"
     ]
    },
    {
     "name": "stdout",
     "output_type": "stream",
     "text": [
      "THE PRICE OF PRODUCT IS 960.0\n"
     ]
    }
   ],
   "source": [
    "price=float((\"ENTER THE PRICE\"))\n",
    "if price>1000:\n",
    "    price=price-(20/100)*price\n",
    "else :\n",
    "    price=price-(30/100)*price\n",
    "print(\"THE PRICE OF PRODUCT IS\",price)"
   ]
  },
  {
   "cell_type": "code",
   "execution_count": 10,
   "id": "b881c7b9-9a0e-43cf-a991-91e0d8d6a2b6",
   "metadata": {},
   "outputs": [
    {
     "name": "stdin",
     "output_type": "stream",
     "text": [
      "ENTER THE PRICE 2999\n"
     ]
    },
    {
     "name": "stdout",
     "output_type": "stream",
     "text": [
      "YOU WILL GET A GIFT\n",
      "THE PRICE IS 2099.3\n"
     ]
    }
   ],
   "source": [
    "price=int(input(\"ENTER THE PRICE\"))\n",
    "if price>3000:\n",
    "    print(\"THE PRICE IS {}\".format(price-price*0.2))\n",
    "elif price>=2000 and price<=3000:\n",
    "    if(price==2999):\n",
    "        print(\"YOU WILL GET A GIFT\")\n",
    "    print(\"THE PRICE IS {}\".format(price-price*0.3))\n",
    "elif price>=1000 and price<=2000:\n",
    "    print(\"THE PRICE IS {}\".format(price-price*0.4))\n",
    "else:\n",
    "    print(\"ITNE SASTE ME NHI PATEGI\")"
   ]
  },
  {
   "cell_type": "code",
   "execution_count": null,
   "id": "bad3ef3d-defd-4f00-911f-28b0e7d120cc",
   "metadata": {},
   "outputs": [],
   "source": []
  }
 ],
 "metadata": {
  "kernelspec": {
   "display_name": "Python 3 (ipykernel)",
   "language": "python",
   "name": "python3"
  },
  "language_info": {
   "codemirror_mode": {
    "name": "ipython",
    "version": 3
   },
   "file_extension": ".py",
   "mimetype": "text/x-python",
   "name": "python",
   "nbconvert_exporter": "python",
   "pygments_lexer": "ipython3",
   "version": "3.10.8"
  }
 },
 "nbformat": 4,
 "nbformat_minor": 5
}
